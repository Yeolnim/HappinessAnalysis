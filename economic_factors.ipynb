{
 "cells": [
  {
   "cell_type": "code",
   "execution_count": 20,
   "metadata": {},
   "outputs": [
    {
     "name": "stdout",
     "output_type": "stream",
     "text": [
      "   id  happiness  survey_type  province  city  county  survey_time  gender  \\\n",
      "0   1          4            1        12    32      59         2015       1   \n",
      "1   2          4            2        18    52      85         2015       1   \n",
      "2   3          4            2        29    83     126         2015       2   \n",
      "3   4          5            2        10    28      51         2015       2   \n",
      "4   5          4            1         7    18      36         2015       2   \n",
      "\n",
      "   birth  nationality  ...  family_status  house  car  marital  status_peer  \\\n",
      "0   1959            1  ...              2      1    2        3            3   \n",
      "1   1992            1  ...              4      1    2        1            1   \n",
      "2   1967            1  ...              3      1    2        3            2   \n",
      "3   1943            1  ...              3      1    1        7            2   \n",
      "4   1994            1  ...              3      1    1        1            3   \n",
      "\n",
      "   status_3_before  view  inc_ability  age  economic  \n",
      "0                2     4            3   56 -0.035586  \n",
      "1                1     4            2   23 -0.102106  \n",
      "2                1     4            2   48 -0.221760  \n",
      "3                1     3            2   72 -0.205209  \n",
      "4                2     3           -8   21 -0.249844  \n",
      "\n",
      "[5 rows x 44 columns]\n"
     ]
    }
   ],
   "source": [
    "import pandas as pd\n",
    "import matplotlib.pyplot as plt\n",
    "\n",
    "data = pd.read_csv('./data/train.csv')\n",
    "e=data[['income','family_income','family_status']]\n",
    "print(data.head(5))"
   ]
  },
  {
   "cell_type": "code",
   "execution_count": 21,
   "metadata": {},
   "outputs": [
    {
     "name": "stdout",
     "output_type": "stream",
     "text": [
      "[0.62048522]\n",
      "[[-10447.43513142]\n",
      " [-29976.92460376]\n",
      " [-65105.50224611]\n",
      " ...\n",
      " [-73350.51703843]\n",
      " [129309.71101496]\n",
      " [-16127.40405979]]\n"
     ]
    }
   ],
   "source": [
    "from sklearn.decomposition import PCA\n",
    "pca = PCA(n_components = 1)\n",
    "pca.fit(e)#iloc:按特定的索引号 [行,列]\n",
    "print(pca.explained_variance_ratio_)#贡献率\n",
    "\n",
    "newdata=pca.fit_transform(e)\n",
    "print(newdata)"
   ]
  },
  {
   "cell_type": "code",
   "execution_count": 18,
   "metadata": {},
   "outputs": [
    {
     "name": "stdout",
     "output_type": "stream",
     "text": [
      "[[-0.03558566]\n",
      " [-0.10210627]\n",
      " [-0.2217599 ]\n",
      " ...\n",
      " [-0.24984376]\n",
      " [ 0.44044985]\n",
      " [-0.05493255]]\n"
     ]
    }
   ],
   "source": [
    "from sklearn import preprocessing\n",
    "newdata = preprocessing.scale(newdata)\n",
    "print(newdata)"
   ]
  },
  {
   "cell_type": "code",
   "execution_count": 19,
   "metadata": {},
   "outputs": [
    {
     "name": "stdout",
     "output_type": "stream",
     "text": [
      "0      -0.035586\n",
      "1      -0.102106\n",
      "2      -0.221760\n",
      "3      -0.205209\n",
      "4      -0.249844\n",
      "5      -0.229535\n",
      "6      -0.249849\n",
      "7      -0.249841\n",
      "8      -0.243340\n",
      "9      -0.006206\n",
      "10     -0.032648\n",
      "11     -0.189082\n",
      "12     -0.103659\n",
      "13      0.078885\n",
      "14     -0.149322\n",
      "15     -0.050484\n",
      "16     -0.130100\n",
      "17     -0.183316\n",
      "18      0.488817\n",
      "19      0.156214\n",
      "20      0.034607\n",
      "21     -0.181848\n",
      "22     -0.113123\n",
      "23     -0.054933\n",
      "24      0.049505\n",
      "25     -0.035586\n",
      "26      0.096868\n",
      "27     -0.175972\n",
      "28     -0.087417\n",
      "29     -0.114592\n",
      "          ...   \n",
      "7970   -0.139039\n",
      "7971   -0.150056\n",
      "7972    0.488817\n",
      "7973   -0.083536\n",
      "7974   -0.135367\n",
      "7975   -0.155669\n",
      "7976   -0.168627\n",
      "7977    0.019709\n",
      "7978   -0.112472\n",
      "7979    0.104800\n",
      "7980   -0.239859\n",
      "7981   -0.116796\n",
      "7982    0.055991\n",
      "7983    0.055991\n",
      "7984   -0.073253\n",
      "7985    0.488817\n",
      "7986    0.016245\n",
      "7987   -0.249845\n",
      "7988    2.772970\n",
      "7989   -0.037138\n",
      "7990   -0.087417\n",
      "7991    0.000613\n",
      "7992   -0.035586\n",
      "7993   -0.118044\n",
      "7994   -0.116796\n",
      "7995   -0.061501\n",
      "7996   -0.171875\n",
      "7997   -0.249844\n",
      "7998    0.440450\n",
      "7999   -0.054933\n",
      "Name: economic, Length: 8000, dtype: float64\n",
      "   id  happiness  survey_type  province  city  county  survey_time  gender  \\\n",
      "0   1          4            1        12    32      59         2015       1   \n",
      "1   2          4            2        18    52      85         2015       1   \n",
      "2   3          4            2        29    83     126         2015       2   \n",
      "3   4          5            2        10    28      51         2015       2   \n",
      "4   5          4            1         7    18      36         2015       2   \n",
      "\n",
      "   birth  nationality  ...  family_status  house  car  marital  status_peer  \\\n",
      "0   1959            1  ...              2      1    2        3            3   \n",
      "1   1992            1  ...              4      1    2        1            1   \n",
      "2   1967            1  ...              3      1    2        3            2   \n",
      "3   1943            1  ...              3      1    1        7            2   \n",
      "4   1994            1  ...              3      1    1        1            3   \n",
      "\n",
      "   status_3_before  view  inc_ability  age  economic  \n",
      "0                2     4            3   56 -0.035586  \n",
      "1                1     4            2   23 -0.102106  \n",
      "2                1     4            2   48 -0.221760  \n",
      "3                1     3            2   72 -0.205209  \n",
      "4                2     3           -8   21 -0.249844  \n",
      "\n",
      "[5 rows x 44 columns]\n"
     ]
    }
   ],
   "source": [
    "data['economic']=newdata\n",
    "print(data['economic'])\n",
    "data.to_csv('./data/train.csv', encoding='utf-8',index=False)\n",
    "print(data.head(5))"
   ]
  }
 ],
 "metadata": {
  "kernelspec": {
   "display_name": "Python 3",
   "language": "python",
   "name": "python3"
  },
  "language_info": {
   "codemirror_mode": {
    "name": "ipython",
    "version": 3
   },
   "file_extension": ".py",
   "mimetype": "text/x-python",
   "name": "python",
   "nbconvert_exporter": "python",
   "pygments_lexer": "ipython3",
   "version": "3.7.3"
  }
 },
 "nbformat": 4,
 "nbformat_minor": 2
}
