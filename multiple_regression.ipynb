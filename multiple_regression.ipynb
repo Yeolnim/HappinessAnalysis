{
 "cells": [
  {
   "cell_type": "code",
   "execution_count": 22,
   "metadata": {},
   "outputs": [
    {
     "name": "stdout",
     "output_type": "stream",
     "text": [
      "                            OLS Regression Results                            \n",
      "==============================================================================\n",
      "Dep. Variable:                      y   R-squared:                       0.024\n",
      "Model:                            OLS   Adj. R-squared:                  0.023\n",
      "Method:                 Least Squares   F-statistic:                     64.77\n",
      "Date:                Thu, 19 Dec 2019   Prob (F-statistic):           2.27e-41\n",
      "Time:                        22:10:39   Log-Likelihood:                -9655.6\n",
      "No. Observations:                8000   AIC:                         1.932e+04\n",
      "Df Residuals:                    7996   BIC:                         1.935e+04\n",
      "Df Model:                           3                                         \n",
      "Covariance Type:            nonrobust                                         \n",
      "==============================================================================\n",
      "                 coef    std err          t      P>|t|      [0.025      0.975]\n",
      "------------------------------------------------------------------------------\n",
      "const          3.4229      0.035     97.769      0.000       3.354       3.491\n",
      "socialize      0.0434      0.009      5.063      0.000       0.027       0.060\n",
      "relax          0.0639      0.009      7.277      0.000       0.047       0.081\n",
      "learn          0.0584      0.008      7.508      0.000       0.043       0.074\n",
      "==============================================================================\n",
      "Omnibus:                     1138.831   Durbin-Watson:                   1.994\n",
      "Prob(Omnibus):                  0.000   Jarque-Bera (JB):             1918.610\n",
      "Skew:                          -0.954   Prob(JB):                         0.00\n",
      "Kurtosis:                       4.456   Cond. No.                         19.7\n",
      "==============================================================================\n",
      "\n",
      "Warnings:\n",
      "[1] Standard Errors assume that the covariance matrix of the errors is correctly specified.\n"
     ]
    }
   ],
   "source": [
    "# model1\n",
    "import pandas as pd\n",
    "import statsmodels.api as sm\n",
    "\n",
    "df=pd.read_csv('./data/train.csv')\n",
    "\n",
    "y = df['happiness'].values\n",
    "X = df[['socialize','relax','learn']]\n",
    "\n",
    "X2 = sm.add_constant(X)\n",
    "est = sm.OLS(y, X2)\n",
    "est2 = est.fit()\n",
    "print(est2.summary())"
   ]
  },
  {
   "cell_type": "code",
   "execution_count": 26,
   "metadata": {},
   "outputs": [
    {
     "name": "stdout",
     "output_type": "stream",
     "text": [
      "                            OLS Regression Results                            \n",
      "==============================================================================\n",
      "Dep. Variable:                      y   R-squared:                       0.034\n",
      "Model:                            OLS   Adj. R-squared:                  0.033\n",
      "Method:                 Least Squares   F-statistic:                     30.91\n",
      "Date:                Thu, 19 Dec 2019   Prob (F-statistic):           1.02e-53\n",
      "Time:                        22:24:18   Log-Likelihood:                -9614.7\n",
      "No. Observations:                8000   AIC:                         1.925e+04\n",
      "Df Residuals:                    7990   BIC:                         1.932e+04\n",
      "Df Model:                           9                                         \n",
      "Covariance Type:            nonrobust                                         \n",
      "===============================================================================\n",
      "                  coef    std err          t      P>|t|      [0.025      0.975]\n",
      "-------------------------------------------------------------------------------\n",
      "const           3.0945      0.071     43.422      0.000       2.955       3.234\n",
      "gender          0.0588      0.018      3.182      0.001       0.023       0.095\n",
      "age             0.0039      0.001      5.773      0.000       0.003       0.005\n",
      "survey_type     0.0269      0.020      1.324      0.185      -0.013       0.067\n",
      "marital        -0.0203      0.007     -2.730      0.006      -0.035      -0.006\n",
      "economic        0.0324      0.009      3.568      0.000       0.015       0.050\n",
      "edu             0.0254      0.004      6.678      0.000       0.018       0.033\n",
      "socialize       0.0468      0.009      5.397      0.000       0.030       0.064\n",
      "relax           0.0577      0.009      6.534      0.000       0.040       0.075\n",
      "learn           0.0372      0.009      4.082      0.000       0.019       0.055\n",
      "==============================================================================\n",
      "Omnibus:                     1111.980   Durbin-Watson:                   1.999\n",
      "Prob(Omnibus):                  0.000   Jarque-Bera (JB):             1853.624\n",
      "Skew:                          -0.939   Prob(JB):                         0.00\n",
      "Kurtosis:                       4.426   Cond. No.                         433.\n",
      "==============================================================================\n",
      "\n",
      "Warnings:\n",
      "[1] Standard Errors assume that the covariance matrix of the errors is correctly specified.\n"
     ]
    }
   ],
   "source": [
    "# model2\n",
    "import pandas as pd\n",
    "import statsmodels.api as sm\n",
    "\n",
    "df=pd.read_csv('./data/train.csv')\n",
    "\n",
    "y = df['happiness'].values\n",
    "X = df[['gender','age','survey_type','marital','economic','edu','socialize','relax','learn']]\n",
    "\n",
    "X2 = sm.add_constant(X)\n",
    "est = sm.OLS(y, X2)\n",
    "est2 = est.fit()\n",
    "print(est2.summary())"
   ]
  },
  {
   "cell_type": "code",
   "execution_count": 2,
   "metadata": {},
   "outputs": [
    {
     "name": "stdout",
     "output_type": "stream",
     "text": [
      "                            OLS Regression Results                            \n",
      "==============================================================================\n",
      "Dep. Variable:                      y   R-squared:                       0.117\n",
      "Model:                            OLS   Adj. R-squared:                  0.117\n",
      "Method:                 Least Squares   F-statistic:                     176.9\n",
      "Date:                Fri, 20 Dec 2019   Prob (F-statistic):          4.02e-212\n",
      "Time:                        14:05:38   Log-Likelihood:                -9252.8\n",
      "No. Observations:                8000   AIC:                         1.852e+04\n",
      "Df Residuals:                    7993   BIC:                         1.857e+04\n",
      "Df Model:                           6                                         \n",
      "Covariance Type:            nonrobust                                         \n",
      "==================================================================================\n",
      "                     coef    std err          t      P>|t|      [0.025      0.975]\n",
      "----------------------------------------------------------------------------------\n",
      "const              2.5567      0.045     56.914      0.000       2.469       2.645\n",
      "health             0.1048      0.010     10.908      0.000       0.086       0.124\n",
      "health_problem    -0.0050      0.008     -0.643      0.520      -0.020       0.010\n",
      "depression         0.1793      0.009     19.083      0.000       0.161       0.198\n",
      "socialize          0.0224      0.008      2.739      0.006       0.006       0.038\n",
      "relax              0.0531      0.008      6.344      0.000       0.037       0.070\n",
      "learn              0.0155      0.008      2.027      0.043       0.001       0.030\n",
      "==============================================================================\n",
      "Omnibus:                      850.179   Durbin-Watson:                   2.002\n",
      "Prob(Omnibus):                  0.000   Jarque-Bera (JB):             1414.259\n",
      "Skew:                          -0.751   Prob(JB):                    7.90e-308\n",
      "Kurtosis:                       4.410   Cond. No.                         43.4\n",
      "==============================================================================\n",
      "\n",
      "Warnings:\n",
      "[1] Standard Errors assume that the covariance matrix of the errors is correctly specified.\n"
     ]
    },
    {
     "name": "stderr",
     "output_type": "stream",
     "text": [
      "D:\\Python\\Anaconda3\\lib\\site-packages\\numpy\\core\\fromnumeric.py:2389: FutureWarning: Method .ptp is deprecated and will be removed in a future version. Use numpy.ptp instead.\n",
      "  return ptp(axis=axis, out=out, **kwargs)\n"
     ]
    }
   ],
   "source": [
    "# model3\n",
    "import pandas as pd\n",
    "import statsmodels.api as sm\n",
    "\n",
    "df=pd.read_csv('./data/train.csv')\n",
    "\n",
    "y = df['happiness'].values\n",
    "X = df[['health','health_problem','depression','socialize','relax','learn']]\n",
    "\n",
    "X2 = sm.add_constant(X)\n",
    "est = sm.OLS(y, X2)\n",
    "est2 = est.fit()\n",
    "print(est2.summary())"
   ]
  },
  {
   "cell_type": "code",
   "execution_count": 3,
   "metadata": {},
   "outputs": [
    {
     "name": "stdout",
     "output_type": "stream",
     "text": [
      "                            OLS Regression Results                            \n",
      "==============================================================================\n",
      "Dep. Variable:                      y   R-squared:                       0.134\n",
      "Model:                            OLS   Adj. R-squared:                  0.133\n",
      "Method:                 Least Squares   F-statistic:                     102.9\n",
      "Date:                Fri, 20 Dec 2019   Prob (F-statistic):          1.99e-238\n",
      "Time:                        17:17:34   Log-Likelihood:                -9176.7\n",
      "No. Observations:                8000   AIC:                         1.838e+04\n",
      "Df Residuals:                    7987   BIC:                         1.847e+04\n",
      "Df Model:                          12                                         \n",
      "Covariance Type:            nonrobust                                         \n",
      "==================================================================================\n",
      "                     coef    std err          t      P>|t|      [0.025      0.975]\n",
      "----------------------------------------------------------------------------------\n",
      "const              1.8917      0.080     23.780      0.000       1.736       2.048\n",
      "gender             0.0901      0.018      5.136      0.000       0.056       0.125\n",
      "age                0.0073      0.001     11.071      0.000       0.006       0.009\n",
      "survey_type        0.0586      0.019      3.034      0.002       0.021       0.096\n",
      "marital           -0.0204      0.007     -2.895      0.004      -0.034      -0.007\n",
      "economic           0.0252      0.009      2.931      0.003       0.008       0.042\n",
      "edu                0.0181      0.004      5.030      0.000       0.011       0.025\n",
      "health             0.1293      0.010     13.130      0.000       0.110       0.149\n",
      "health_problem     0.0056      0.008      0.710      0.478      -0.010       0.021\n",
      "depression         0.1692      0.009     18.074      0.000       0.151       0.188\n",
      "socialize          0.0205      0.008      2.481      0.013       0.004       0.037\n",
      "relax              0.0424      0.008      5.064      0.000       0.026       0.059\n",
      "learn              0.0174      0.009      2.004      0.045       0.000       0.034\n",
      "==============================================================================\n",
      "Omnibus:                      840.116   Durbin-Watson:                   2.006\n",
      "Prob(Omnibus):                  0.000   Jarque-Bera (JB):             1439.135\n",
      "Skew:                          -0.733   Prob(JB):                         0.00\n",
      "Kurtosis:                       4.473   Cond. No.                         509.\n",
      "==============================================================================\n",
      "\n",
      "Warnings:\n",
      "[1] Standard Errors assume that the covariance matrix of the errors is correctly specified.\n"
     ]
    }
   ],
   "source": [
    "# model4\n",
    "import pandas as pd\n",
    "import statsmodels.api as sm\n",
    "\n",
    "df=pd.read_csv('./data/train.csv')\n",
    "\n",
    "y = df['happiness'].values\n",
    "X = df[['gender','age','survey_type','marital','economic','edu','health','health_problem','depression','socialize','relax','learn']]\n",
    "\n",
    "X2 = sm.add_constant(X)\n",
    "est = sm.OLS(y, X2)\n",
    "est2 = est.fit()\n",
    "print(est2.summary())"
   ]
  }
 ],
 "metadata": {
  "kernelspec": {
   "display_name": "Python 3",
   "language": "python",
   "name": "python3"
  },
  "language_info": {
   "codemirror_mode": {
    "name": "ipython",
    "version": 3
   },
   "file_extension": ".py",
   "mimetype": "text/x-python",
   "name": "python",
   "nbconvert_exporter": "python",
   "pygments_lexer": "ipython3",
   "version": "3.7.3"
  }
 },
 "nbformat": 4,
 "nbformat_minor": 2
}
